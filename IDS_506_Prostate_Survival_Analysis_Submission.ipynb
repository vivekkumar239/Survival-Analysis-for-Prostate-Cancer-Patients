{
  "nbformat": 4,
  "nbformat_minor": 0,
  "metadata": {
    "colab": {
      "name": "IDS-506 Prostate - Survival Analysis Submission.ipynb",
      "provenance": [],
      "collapsed_sections": []
    },
    "kernelspec": {
      "name": "python3",
      "display_name": "Python 3"
    },
    "language_info": {
      "name": "python"
    }
  },
  "cells": [
    {
      "cell_type": "code",
      "metadata": {
        "colab": {
          "base_uri": "https://localhost:8080/"
        },
        "id": "ucSVvTRFL3Zs",
        "outputId": "1432b2a0-6e83-43b7-e843-72dc5cfad73b"
      },
      "source": [
        "%cd '/content/drive/MyDrive/IDS-506/Prostrate Cancer Identification'"
      ],
      "execution_count": null,
      "outputs": [
        {
          "output_type": "stream",
          "text": [
            "/content/drive/MyDrive/IDS-506/Prostrate Cancer Identification\n"
          ],
          "name": "stdout"
        }
      ]
    },
    {
      "cell_type": "code",
      "metadata": {
        "colab": {
          "base_uri": "https://localhost:8080/"
        },
        "id": "TS8Rs7gvMSDF",
        "outputId": "8afa7c32-4a66-4546-e5a6-c3fcb325ca2e"
      },
      "source": [
        "!ls"
      ],
      "execution_count": null,
      "outputs": [
        {
          "output_type": "stream",
          "text": [
            " Clean_Data.xlsx\n",
            "'Copy of IDS-506 Prostate - Survival Analysis.ipynb'\n",
            "'IDS-506 Prostate - Survival Analysis.ipynb'\n",
            "'IDS-506 Prostate - Survival Analysis Submission.ipynb'\n",
            "'IDS-506 Prostrate Cancer Identification.ipynb'\n",
            "'(name)_score.csv'\n",
            " training_data_clean_1.csv\n",
            " training_data_clean.xlsx\n",
            " training_data.csv\n"
          ],
          "name": "stdout"
        }
      ]
    },
    {
      "cell_type": "code",
      "metadata": {
        "id": "DxeEpdQDMTUU"
      },
      "source": [
        "import pandas as pd\n",
        "import numpy as np\n",
        "import seaborn as sns\n",
        "import matplotlib.pyplot as plt"
      ],
      "execution_count": null,
      "outputs": []
    },
    {
      "cell_type": "code",
      "metadata": {
        "id": "qiA0MFM7MZxX"
      },
      "source": [
        "training_data = pd.read_csv('training_data.csv')"
      ],
      "execution_count": null,
      "outputs": []
    },
    {
      "cell_type": "code",
      "metadata": {
        "colab": {
          "base_uri": "https://localhost:8080/",
          "height": 224
        },
        "id": "oRXd9j6zMhQa",
        "outputId": "3d44aee7-5db7-4c60-beb2-118e96e82d26"
      },
      "source": [
        "training_data.head(5)"
      ],
      "execution_count": null,
      "outputs": [
        {
          "output_type": "execute_result",
          "data": {
            "text/html": [
              "<div>\n",
              "<style scoped>\n",
              "    .dataframe tbody tr th:only-of-type {\n",
              "        vertical-align: middle;\n",
              "    }\n",
              "\n",
              "    .dataframe tbody tr th {\n",
              "        vertical-align: top;\n",
              "    }\n",
              "\n",
              "    .dataframe thead th {\n",
              "        text-align: right;\n",
              "    }\n",
              "</style>\n",
              "<table border=\"1\" class=\"dataframe\">\n",
              "  <thead>\n",
              "    <tr style=\"text-align: right;\">\n",
              "      <th></th>\n",
              "      <th>id</th>\n",
              "      <th>diagnosis_date</th>\n",
              "      <th>gleason_score</th>\n",
              "      <th>t_score</th>\n",
              "      <th>n_score</th>\n",
              "      <th>m_score</th>\n",
              "      <th>stage</th>\n",
              "      <th>age</th>\n",
              "      <th>race</th>\n",
              "      <th>height</th>\n",
              "      <th>weight</th>\n",
              "      <th>family_history</th>\n",
              "      <th>first_degree_history</th>\n",
              "      <th>previous_cancer</th>\n",
              "      <th>smoker</th>\n",
              "      <th>side</th>\n",
              "      <th>tumor_diagnosis</th>\n",
              "      <th>tumor_6_months</th>\n",
              "      <th>tumor_1_year</th>\n",
              "      <th>psa_diagnosis</th>\n",
              "      <th>psa_6_months</th>\n",
              "      <th>psa_1_year</th>\n",
              "      <th>tea</th>\n",
              "      <th>symptoms</th>\n",
              "      <th>rd_thrpy</th>\n",
              "      <th>h_thrpy</th>\n",
              "      <th>chm_thrpy</th>\n",
              "      <th>cry_thrpy</th>\n",
              "      <th>brch_thrpy</th>\n",
              "      <th>rad_rem</th>\n",
              "      <th>multi_thrpy</th>\n",
              "      <th>survival_1_year</th>\n",
              "      <th>survival_7_years</th>\n",
              "    </tr>\n",
              "  </thead>\n",
              "  <tbody>\n",
              "    <tr>\n",
              "      <th>0</th>\n",
              "      <td>1</td>\n",
              "      <td>Jun-05</td>\n",
              "      <td>4.0</td>\n",
              "      <td>T1c</td>\n",
              "      <td>N0</td>\n",
              "      <td>M0</td>\n",
              "      <td>I</td>\n",
              "      <td>86.0</td>\n",
              "      <td>4.0</td>\n",
              "      <td>66.0</td>\n",
              "      <td>158.0</td>\n",
              "      <td>0.0</td>\n",
              "      <td>0.0</td>\n",
              "      <td>0.0</td>\n",
              "      <td>0.0</td>\n",
              "      <td>both</td>\n",
              "      <td>70.0</td>\n",
              "      <td>NaN</td>\n",
              "      <td>39.0</td>\n",
              "      <td>8.7</td>\n",
              "      <td>NaN</td>\n",
              "      <td>4.2</td>\n",
              "      <td>2.0</td>\n",
              "      <td>U03</td>\n",
              "      <td>0</td>\n",
              "      <td>0</td>\n",
              "      <td>1</td>\n",
              "      <td>1</td>\n",
              "      <td>0</td>\n",
              "      <td>1</td>\n",
              "      <td>1</td>\n",
              "      <td>1</td>\n",
              "      <td>0</td>\n",
              "    </tr>\n",
              "    <tr>\n",
              "      <th>1</th>\n",
              "      <td>2</td>\n",
              "      <td>Feb-06</td>\n",
              "      <td>8.0</td>\n",
              "      <td>T3a</td>\n",
              "      <td>N1</td>\n",
              "      <td>M0</td>\n",
              "      <td>IV</td>\n",
              "      <td>66.0</td>\n",
              "      <td>2.0</td>\n",
              "      <td>70.0</td>\n",
              "      <td>174.0</td>\n",
              "      <td>0.0</td>\n",
              "      <td>0.0</td>\n",
              "      <td>0.0</td>\n",
              "      <td>1.0</td>\n",
              "      <td>both</td>\n",
              "      <td>43.0</td>\n",
              "      <td>28.0</td>\n",
              "      <td>16.0</td>\n",
              "      <td>13.7</td>\n",
              "      <td>9.8</td>\n",
              "      <td>7.5</td>\n",
              "      <td>4.0</td>\n",
              "      <td>U06,S07</td>\n",
              "      <td>1</td>\n",
              "      <td>1</td>\n",
              "      <td>1</td>\n",
              "      <td>0</td>\n",
              "      <td>0</td>\n",
              "      <td>0</td>\n",
              "      <td>1</td>\n",
              "      <td>1</td>\n",
              "      <td>0</td>\n",
              "    </tr>\n",
              "    <tr>\n",
              "      <th>2</th>\n",
              "      <td>3</td>\n",
              "      <td>Mar-06</td>\n",
              "      <td>9.0</td>\n",
              "      <td>T1a</td>\n",
              "      <td>N0</td>\n",
              "      <td>M0</td>\n",
              "      <td>IIB</td>\n",
              "      <td>84.0</td>\n",
              "      <td>4.0</td>\n",
              "      <td>69.0</td>\n",
              "      <td>NaN</td>\n",
              "      <td>0.0</td>\n",
              "      <td>0.0</td>\n",
              "      <td>0.0</td>\n",
              "      <td>0.0</td>\n",
              "      <td>right</td>\n",
              "      <td>51.0</td>\n",
              "      <td>NaN</td>\n",
              "      <td>89.0</td>\n",
              "      <td>16.0</td>\n",
              "      <td>15.9</td>\n",
              "      <td>18.5</td>\n",
              "      <td>0.0</td>\n",
              "      <td>U01,U02,U03,S10</td>\n",
              "      <td>1</td>\n",
              "      <td>1</td>\n",
              "      <td>0</td>\n",
              "      <td>0</td>\n",
              "      <td>1</td>\n",
              "      <td>1</td>\n",
              "      <td>1</td>\n",
              "      <td>1</td>\n",
              "      <td>1</td>\n",
              "    </tr>\n",
              "    <tr>\n",
              "      <th>3</th>\n",
              "      <td>4</td>\n",
              "      <td>Feb-05</td>\n",
              "      <td>8.0</td>\n",
              "      <td>T2b</td>\n",
              "      <td>N0</td>\n",
              "      <td>M0</td>\n",
              "      <td>IIB</td>\n",
              "      <td>86.0</td>\n",
              "      <td>3.0</td>\n",
              "      <td>69.0</td>\n",
              "      <td>173.0</td>\n",
              "      <td>0.0</td>\n",
              "      <td>0.0</td>\n",
              "      <td>0.0</td>\n",
              "      <td>0.0</td>\n",
              "      <td>right</td>\n",
              "      <td>104.0</td>\n",
              "      <td>NaN</td>\n",
              "      <td>NaN</td>\n",
              "      <td>NaN</td>\n",
              "      <td>NaN</td>\n",
              "      <td>NaN</td>\n",
              "      <td>2.0</td>\n",
              "      <td>U01,U02,S10,O11</td>\n",
              "      <td>0</td>\n",
              "      <td>0</td>\n",
              "      <td>0</td>\n",
              "      <td>1</td>\n",
              "      <td>0</td>\n",
              "      <td>1</td>\n",
              "      <td>1</td>\n",
              "      <td>0</td>\n",
              "      <td>0</td>\n",
              "    </tr>\n",
              "    <tr>\n",
              "      <th>4</th>\n",
              "      <td>5</td>\n",
              "      <td>Dec-01</td>\n",
              "      <td>8.0</td>\n",
              "      <td>T4</td>\n",
              "      <td>N0</td>\n",
              "      <td>M0</td>\n",
              "      <td>IV</td>\n",
              "      <td>78.0</td>\n",
              "      <td>4.0</td>\n",
              "      <td>70.0</td>\n",
              "      <td>201.0</td>\n",
              "      <td>1.0</td>\n",
              "      <td>1.0</td>\n",
              "      <td>0.0</td>\n",
              "      <td>0.0</td>\n",
              "      <td>left</td>\n",
              "      <td>72.0</td>\n",
              "      <td>NaN</td>\n",
              "      <td>87.0</td>\n",
              "      <td>18.1</td>\n",
              "      <td>NaN</td>\n",
              "      <td>NaN</td>\n",
              "      <td>2.0</td>\n",
              "      <td>U01,U03,U05,S07</td>\n",
              "      <td>1</td>\n",
              "      <td>1</td>\n",
              "      <td>1</td>\n",
              "      <td>0</td>\n",
              "      <td>0</td>\n",
              "      <td>0</td>\n",
              "      <td>1</td>\n",
              "      <td>1</td>\n",
              "      <td>0</td>\n",
              "    </tr>\n",
              "  </tbody>\n",
              "</table>\n",
              "</div>"
            ],
            "text/plain": [
              "   id diagnosis_date  ...  survival_1_year survival_7_years\n",
              "0   1         Jun-05  ...                1                0\n",
              "1   2         Feb-06  ...                1                0\n",
              "2   3         Mar-06  ...                1                1\n",
              "3   4         Feb-05  ...                0                0\n",
              "4   5         Dec-01  ...                1                0\n",
              "\n",
              "[5 rows x 33 columns]"
            ]
          },
          "metadata": {
            "tags": []
          },
          "execution_count": 5
        }
      ]
    },
    {
      "cell_type": "code",
      "metadata": {
        "colab": {
          "base_uri": "https://localhost:8080/"
        },
        "id": "GUg0-cyLSq6o",
        "outputId": "ff99887e-274c-413c-c873-5575e0d205a1"
      },
      "source": [
        "training_data.isna().sum()[training_data.isna().sum()>0].sort_values(ascending = False)"
      ],
      "execution_count": null,
      "outputs": [
        {
          "output_type": "execute_result",
          "data": {
            "text/plain": [
              "tumor_6_months          10063\n",
              "psa_6_months             9503\n",
              "psa_1_year               2517\n",
              "tumor_1_year             2123\n",
              "smoker                   1586\n",
              "tea                      1586\n",
              "previous_cancer          1586\n",
              "first_degree_history     1586\n",
              "family_history           1586\n",
              "psa_diagnosis            1398\n",
              "height                   1364\n",
              "weight                   1317\n",
              "age                       748\n",
              "symptoms                  410\n",
              "gleason_score             320\n",
              "tumor_diagnosis           303\n",
              "race                      165\n",
              "dtype: int64"
            ]
          },
          "metadata": {
            "tags": []
          },
          "execution_count": 11
        }
      ]
    },
    {
      "cell_type": "code",
      "metadata": {
        "colab": {
          "base_uri": "https://localhost:8080/"
        },
        "id": "APmfwxHrEUFW",
        "outputId": "14f771d2-56fc-4825-86f8-12b8c5a7d2c9"
      },
      "source": [
        "training_data['stage'].unique()"
      ],
      "execution_count": null,
      "outputs": [
        {
          "output_type": "execute_result",
          "data": {
            "text/plain": [
              "array(['I', 'IV', 'IIB', 'IIA', 'III'], dtype=object)"
            ]
          },
          "metadata": {
            "tags": []
          },
          "execution_count": 7
        }
      ]
    },
    {
      "cell_type": "code",
      "metadata": {
        "id": "zxnFR1-c9SJe"
      },
      "source": [
        "tranform_stage = {'stage': {'I':1, 'IV':5, 'IIB':3, 'IIA':2, 'III':4}}"
      ],
      "execution_count": null,
      "outputs": []
    },
    {
      "cell_type": "code",
      "metadata": {
        "id": "r3EZrKkE9Xnc"
      },
      "source": [
        "training_data = training_data.replace(tranform_stage)"
      ],
      "execution_count": null,
      "outputs": []
    },
    {
      "cell_type": "code",
      "metadata": {
        "colab": {
          "base_uri": "https://localhost:8080/"
        },
        "id": "85aUl6apEfYb",
        "outputId": "50c09917-00a0-406d-fd14-55cd124ba60e"
      },
      "source": [
        "training_data['stage'].unique()"
      ],
      "execution_count": null,
      "outputs": [
        {
          "output_type": "execute_result",
          "data": {
            "text/plain": [
              "array([1, 5, 3, 2, 4])"
            ]
          },
          "metadata": {
            "tags": []
          },
          "execution_count": 10
        }
      ]
    },
    {
      "cell_type": "code",
      "metadata": {
        "id": "mRKsG_McWxQt"
      },
      "source": [
        "training_data = training_data.drop(['t_score', 'n_score', 'm_score'],axis=1)"
      ],
      "execution_count": null,
      "outputs": []
    },
    {
      "cell_type": "code",
      "metadata": {
        "colab": {
          "base_uri": "https://localhost:8080/"
        },
        "id": "kpNA4M5qEv9Y",
        "outputId": "5a01450f-4841-42b3-93e2-335d9fca6a81"
      },
      "source": [
        "training_data.shape"
      ],
      "execution_count": null,
      "outputs": [
        {
          "output_type": "execute_result",
          "data": {
            "text/plain": [
              "(15385, 30)"
            ]
          },
          "metadata": {
            "tags": []
          },
          "execution_count": 12
        }
      ]
    },
    {
      "cell_type": "code",
      "metadata": {
        "id": "rVX4HInUlZiP"
      },
      "source": [
        "training_data['O01']=training_data['symptoms'].str.contains('O01')\n",
        "training_data['O08']=training_data['symptoms'].str.contains('O08')\n",
        "training_data['O09']=training_data['symptoms'].str.contains('O09')\n",
        "training_data['O10']=training_data['symptoms'].str.contains('O10')\n",
        "training_data['O11']=training_data['symptoms'].str.contains('O11')\n",
        "training_data['P01']=training_data['symptoms'].str.contains('P01')\n",
        "training_data['P02']=training_data['symptoms'].str.contains('P02')\n",
        "training_data['P03']=training_data['symptoms'].str.contains('P03')\n",
        "training_data['S04']=training_data['symptoms'].str.contains('S04')\n",
        "training_data['S07']=training_data['symptoms'].str.contains('S07')\n",
        "training_data['S10']=training_data['symptoms'].str.contains('S10')\n",
        "training_data['U01']=training_data['symptoms'].str.contains('U01')\n",
        "training_data['U02']=training_data['symptoms'].str.contains('U02')\n",
        "training_data['U03']=training_data['symptoms'].str.contains('U03')\n",
        "training_data['U05']=training_data['symptoms'].str.contains('U05')\n",
        "training_data['U06']=training_data['symptoms'].str.contains('U06')"
      ],
      "execution_count": null,
      "outputs": []
    },
    {
      "cell_type": "code",
      "metadata": {
        "id": "8ISHslKenfbu"
      },
      "source": [
        "tranform_symptoms = {'O01' : {True : 1, False : 0}, \n",
        "                     'O08' : {True : 1, False : 0},\n",
        "                     'O09' : {True : 1, False : 0},\n",
        "                     'O10' : {True : 1, False : 0},\n",
        "                     'O11' : {True : 1, False : 0},\n",
        "                     'P01' : {True : 1, False : 0},\n",
        "                     'P02' : {True : 1, False : 0},\n",
        "                     'P03' : {True : 1, False : 0},\n",
        "                     'S04' : {True : 1, False : 0},\n",
        "                     'S07' : {True : 1, False : 0},\n",
        "                     'S10' : {True : 1, False : 0},\n",
        "                     'U01' : {True : 1, False : 0},\n",
        "                     'U02' : {True : 1, False : 0},\n",
        "                     'U03' : {True : 1, False : 0},\n",
        "                     'U05' : {True : 1, False : 0},\n",
        "                     'U06' : {True : 1, False : 0}\n",
        "                     }"
      ],
      "execution_count": null,
      "outputs": []
    },
    {
      "cell_type": "code",
      "metadata": {
        "id": "7xzo3AMfob6n"
      },
      "source": [
        "training_data = training_data.replace(tranform_symptoms)"
      ],
      "execution_count": null,
      "outputs": []
    },
    {
      "cell_type": "code",
      "metadata": {
        "id": "Srll0rpkm3i1"
      },
      "source": [
        "training_data.drop('symptoms', axis=1, inplace=True)"
      ],
      "execution_count": null,
      "outputs": []
    },
    {
      "cell_type": "code",
      "metadata": {
        "colab": {
          "base_uri": "https://localhost:8080/"
        },
        "id": "yzluVz54snrG",
        "outputId": "5f11879a-6085-4134-a8b8-b1e37e8d59c9"
      },
      "source": [
        "training_data.shape"
      ],
      "execution_count": null,
      "outputs": [
        {
          "output_type": "execute_result",
          "data": {
            "text/plain": [
              "(15385, 45)"
            ]
          },
          "metadata": {
            "tags": []
          },
          "execution_count": 17
        }
      ]
    },
    {
      "cell_type": "code",
      "metadata": {
        "colab": {
          "base_uri": "https://localhost:8080/",
          "height": 224
        },
        "id": "W_tgDfOKq-du",
        "outputId": "c9b4a793-7b0a-43f8-ddd3-698dc9714c9d"
      },
      "source": [
        "training_data.head(5)"
      ],
      "execution_count": null,
      "outputs": [
        {
          "output_type": "execute_result",
          "data": {
            "text/html": [
              "<div>\n",
              "<style scoped>\n",
              "    .dataframe tbody tr th:only-of-type {\n",
              "        vertical-align: middle;\n",
              "    }\n",
              "\n",
              "    .dataframe tbody tr th {\n",
              "        vertical-align: top;\n",
              "    }\n",
              "\n",
              "    .dataframe thead th {\n",
              "        text-align: right;\n",
              "    }\n",
              "</style>\n",
              "<table border=\"1\" class=\"dataframe\">\n",
              "  <thead>\n",
              "    <tr style=\"text-align: right;\">\n",
              "      <th></th>\n",
              "      <th>id</th>\n",
              "      <th>diagnosis_date</th>\n",
              "      <th>gleason_score</th>\n",
              "      <th>stage</th>\n",
              "      <th>age</th>\n",
              "      <th>race</th>\n",
              "      <th>height</th>\n",
              "      <th>weight</th>\n",
              "      <th>family_history</th>\n",
              "      <th>first_degree_history</th>\n",
              "      <th>previous_cancer</th>\n",
              "      <th>smoker</th>\n",
              "      <th>side</th>\n",
              "      <th>tumor_diagnosis</th>\n",
              "      <th>tumor_6_months</th>\n",
              "      <th>tumor_1_year</th>\n",
              "      <th>psa_diagnosis</th>\n",
              "      <th>psa_6_months</th>\n",
              "      <th>psa_1_year</th>\n",
              "      <th>tea</th>\n",
              "      <th>rd_thrpy</th>\n",
              "      <th>h_thrpy</th>\n",
              "      <th>chm_thrpy</th>\n",
              "      <th>cry_thrpy</th>\n",
              "      <th>brch_thrpy</th>\n",
              "      <th>rad_rem</th>\n",
              "      <th>multi_thrpy</th>\n",
              "      <th>survival_1_year</th>\n",
              "      <th>survival_7_years</th>\n",
              "      <th>O01</th>\n",
              "      <th>O08</th>\n",
              "      <th>O09</th>\n",
              "      <th>O10</th>\n",
              "      <th>O11</th>\n",
              "      <th>P01</th>\n",
              "      <th>P02</th>\n",
              "      <th>P03</th>\n",
              "      <th>S04</th>\n",
              "      <th>S07</th>\n",
              "      <th>S10</th>\n",
              "      <th>U01</th>\n",
              "      <th>U02</th>\n",
              "      <th>U03</th>\n",
              "      <th>U05</th>\n",
              "      <th>U06</th>\n",
              "    </tr>\n",
              "  </thead>\n",
              "  <tbody>\n",
              "    <tr>\n",
              "      <th>0</th>\n",
              "      <td>1</td>\n",
              "      <td>Jun-05</td>\n",
              "      <td>4.0</td>\n",
              "      <td>1</td>\n",
              "      <td>86.0</td>\n",
              "      <td>4.0</td>\n",
              "      <td>66.0</td>\n",
              "      <td>158.0</td>\n",
              "      <td>0.0</td>\n",
              "      <td>0.0</td>\n",
              "      <td>0.0</td>\n",
              "      <td>0.0</td>\n",
              "      <td>both</td>\n",
              "      <td>70.0</td>\n",
              "      <td>NaN</td>\n",
              "      <td>39.0</td>\n",
              "      <td>8.7</td>\n",
              "      <td>NaN</td>\n",
              "      <td>4.2</td>\n",
              "      <td>2.0</td>\n",
              "      <td>0</td>\n",
              "      <td>0</td>\n",
              "      <td>1</td>\n",
              "      <td>1</td>\n",
              "      <td>0</td>\n",
              "      <td>1</td>\n",
              "      <td>1</td>\n",
              "      <td>1</td>\n",
              "      <td>0</td>\n",
              "      <td>0.0</td>\n",
              "      <td>0.0</td>\n",
              "      <td>0.0</td>\n",
              "      <td>0.0</td>\n",
              "      <td>0.0</td>\n",
              "      <td>0.0</td>\n",
              "      <td>0.0</td>\n",
              "      <td>0.0</td>\n",
              "      <td>0.0</td>\n",
              "      <td>0.0</td>\n",
              "      <td>0.0</td>\n",
              "      <td>0.0</td>\n",
              "      <td>0.0</td>\n",
              "      <td>1.0</td>\n",
              "      <td>0.0</td>\n",
              "      <td>0.0</td>\n",
              "    </tr>\n",
              "    <tr>\n",
              "      <th>1</th>\n",
              "      <td>2</td>\n",
              "      <td>Feb-06</td>\n",
              "      <td>8.0</td>\n",
              "      <td>5</td>\n",
              "      <td>66.0</td>\n",
              "      <td>2.0</td>\n",
              "      <td>70.0</td>\n",
              "      <td>174.0</td>\n",
              "      <td>0.0</td>\n",
              "      <td>0.0</td>\n",
              "      <td>0.0</td>\n",
              "      <td>1.0</td>\n",
              "      <td>both</td>\n",
              "      <td>43.0</td>\n",
              "      <td>28.0</td>\n",
              "      <td>16.0</td>\n",
              "      <td>13.7</td>\n",
              "      <td>9.8</td>\n",
              "      <td>7.5</td>\n",
              "      <td>4.0</td>\n",
              "      <td>1</td>\n",
              "      <td>1</td>\n",
              "      <td>1</td>\n",
              "      <td>0</td>\n",
              "      <td>0</td>\n",
              "      <td>0</td>\n",
              "      <td>1</td>\n",
              "      <td>1</td>\n",
              "      <td>0</td>\n",
              "      <td>0.0</td>\n",
              "      <td>0.0</td>\n",
              "      <td>0.0</td>\n",
              "      <td>0.0</td>\n",
              "      <td>0.0</td>\n",
              "      <td>0.0</td>\n",
              "      <td>0.0</td>\n",
              "      <td>0.0</td>\n",
              "      <td>0.0</td>\n",
              "      <td>1.0</td>\n",
              "      <td>0.0</td>\n",
              "      <td>0.0</td>\n",
              "      <td>0.0</td>\n",
              "      <td>0.0</td>\n",
              "      <td>0.0</td>\n",
              "      <td>1.0</td>\n",
              "    </tr>\n",
              "    <tr>\n",
              "      <th>2</th>\n",
              "      <td>3</td>\n",
              "      <td>Mar-06</td>\n",
              "      <td>9.0</td>\n",
              "      <td>3</td>\n",
              "      <td>84.0</td>\n",
              "      <td>4.0</td>\n",
              "      <td>69.0</td>\n",
              "      <td>NaN</td>\n",
              "      <td>0.0</td>\n",
              "      <td>0.0</td>\n",
              "      <td>0.0</td>\n",
              "      <td>0.0</td>\n",
              "      <td>right</td>\n",
              "      <td>51.0</td>\n",
              "      <td>NaN</td>\n",
              "      <td>89.0</td>\n",
              "      <td>16.0</td>\n",
              "      <td>15.9</td>\n",
              "      <td>18.5</td>\n",
              "      <td>0.0</td>\n",
              "      <td>1</td>\n",
              "      <td>1</td>\n",
              "      <td>0</td>\n",
              "      <td>0</td>\n",
              "      <td>1</td>\n",
              "      <td>1</td>\n",
              "      <td>1</td>\n",
              "      <td>1</td>\n",
              "      <td>1</td>\n",
              "      <td>0.0</td>\n",
              "      <td>0.0</td>\n",
              "      <td>0.0</td>\n",
              "      <td>0.0</td>\n",
              "      <td>0.0</td>\n",
              "      <td>0.0</td>\n",
              "      <td>0.0</td>\n",
              "      <td>0.0</td>\n",
              "      <td>0.0</td>\n",
              "      <td>0.0</td>\n",
              "      <td>1.0</td>\n",
              "      <td>1.0</td>\n",
              "      <td>1.0</td>\n",
              "      <td>1.0</td>\n",
              "      <td>0.0</td>\n",
              "      <td>0.0</td>\n",
              "    </tr>\n",
              "    <tr>\n",
              "      <th>3</th>\n",
              "      <td>4</td>\n",
              "      <td>Feb-05</td>\n",
              "      <td>8.0</td>\n",
              "      <td>3</td>\n",
              "      <td>86.0</td>\n",
              "      <td>3.0</td>\n",
              "      <td>69.0</td>\n",
              "      <td>173.0</td>\n",
              "      <td>0.0</td>\n",
              "      <td>0.0</td>\n",
              "      <td>0.0</td>\n",
              "      <td>0.0</td>\n",
              "      <td>right</td>\n",
              "      <td>104.0</td>\n",
              "      <td>NaN</td>\n",
              "      <td>NaN</td>\n",
              "      <td>NaN</td>\n",
              "      <td>NaN</td>\n",
              "      <td>NaN</td>\n",
              "      <td>2.0</td>\n",
              "      <td>0</td>\n",
              "      <td>0</td>\n",
              "      <td>0</td>\n",
              "      <td>1</td>\n",
              "      <td>0</td>\n",
              "      <td>1</td>\n",
              "      <td>1</td>\n",
              "      <td>0</td>\n",
              "      <td>0</td>\n",
              "      <td>0.0</td>\n",
              "      <td>0.0</td>\n",
              "      <td>0.0</td>\n",
              "      <td>0.0</td>\n",
              "      <td>1.0</td>\n",
              "      <td>0.0</td>\n",
              "      <td>0.0</td>\n",
              "      <td>0.0</td>\n",
              "      <td>0.0</td>\n",
              "      <td>0.0</td>\n",
              "      <td>1.0</td>\n",
              "      <td>1.0</td>\n",
              "      <td>1.0</td>\n",
              "      <td>0.0</td>\n",
              "      <td>0.0</td>\n",
              "      <td>0.0</td>\n",
              "    </tr>\n",
              "    <tr>\n",
              "      <th>4</th>\n",
              "      <td>5</td>\n",
              "      <td>Dec-01</td>\n",
              "      <td>8.0</td>\n",
              "      <td>5</td>\n",
              "      <td>78.0</td>\n",
              "      <td>4.0</td>\n",
              "      <td>70.0</td>\n",
              "      <td>201.0</td>\n",
              "      <td>1.0</td>\n",
              "      <td>1.0</td>\n",
              "      <td>0.0</td>\n",
              "      <td>0.0</td>\n",
              "      <td>left</td>\n",
              "      <td>72.0</td>\n",
              "      <td>NaN</td>\n",
              "      <td>87.0</td>\n",
              "      <td>18.1</td>\n",
              "      <td>NaN</td>\n",
              "      <td>NaN</td>\n",
              "      <td>2.0</td>\n",
              "      <td>1</td>\n",
              "      <td>1</td>\n",
              "      <td>1</td>\n",
              "      <td>0</td>\n",
              "      <td>0</td>\n",
              "      <td>0</td>\n",
              "      <td>1</td>\n",
              "      <td>1</td>\n",
              "      <td>0</td>\n",
              "      <td>0.0</td>\n",
              "      <td>0.0</td>\n",
              "      <td>0.0</td>\n",
              "      <td>0.0</td>\n",
              "      <td>0.0</td>\n",
              "      <td>0.0</td>\n",
              "      <td>0.0</td>\n",
              "      <td>0.0</td>\n",
              "      <td>0.0</td>\n",
              "      <td>1.0</td>\n",
              "      <td>0.0</td>\n",
              "      <td>1.0</td>\n",
              "      <td>0.0</td>\n",
              "      <td>1.0</td>\n",
              "      <td>1.0</td>\n",
              "      <td>0.0</td>\n",
              "    </tr>\n",
              "  </tbody>\n",
              "</table>\n",
              "</div>"
            ],
            "text/plain": [
              "   id diagnosis_date  gleason_score  stage   age  ...  U01  U02  U03  U05  U06\n",
              "0   1         Jun-05            4.0      1  86.0  ...  0.0  0.0  1.0  0.0  0.0\n",
              "1   2         Feb-06            8.0      5  66.0  ...  0.0  0.0  0.0  0.0  1.0\n",
              "2   3         Mar-06            9.0      3  84.0  ...  1.0  1.0  1.0  0.0  0.0\n",
              "3   4         Feb-05            8.0      3  86.0  ...  1.0  1.0  0.0  0.0  0.0\n",
              "4   5         Dec-01            8.0      5  78.0  ...  1.0  0.0  1.0  1.0  0.0\n",
              "\n",
              "[5 rows x 45 columns]"
            ]
          },
          "metadata": {
            "tags": []
          },
          "execution_count": 18
        }
      ]
    },
    {
      "cell_type": "code",
      "metadata": {
        "id": "86LNRt6J9xR1"
      },
      "source": [
        "training_data = pd.get_dummies(training_data, columns=['race'])"
      ],
      "execution_count": null,
      "outputs": []
    },
    {
      "cell_type": "code",
      "metadata": {
        "colab": {
          "base_uri": "https://localhost:8080/",
          "height": 224
        },
        "id": "DnobZxgo-yZN",
        "outputId": "eacc6de2-b2a7-427c-dbd4-7c0ef7ef71fa"
      },
      "source": [
        "training_data.head(5)"
      ],
      "execution_count": null,
      "outputs": [
        {
          "output_type": "execute_result",
          "data": {
            "text/html": [
              "<div>\n",
              "<style scoped>\n",
              "    .dataframe tbody tr th:only-of-type {\n",
              "        vertical-align: middle;\n",
              "    }\n",
              "\n",
              "    .dataframe tbody tr th {\n",
              "        vertical-align: top;\n",
              "    }\n",
              "\n",
              "    .dataframe thead th {\n",
              "        text-align: right;\n",
              "    }\n",
              "</style>\n",
              "<table border=\"1\" class=\"dataframe\">\n",
              "  <thead>\n",
              "    <tr style=\"text-align: right;\">\n",
              "      <th></th>\n",
              "      <th>id</th>\n",
              "      <th>diagnosis_date</th>\n",
              "      <th>gleason_score</th>\n",
              "      <th>stage</th>\n",
              "      <th>age</th>\n",
              "      <th>height</th>\n",
              "      <th>weight</th>\n",
              "      <th>family_history</th>\n",
              "      <th>first_degree_history</th>\n",
              "      <th>previous_cancer</th>\n",
              "      <th>smoker</th>\n",
              "      <th>side</th>\n",
              "      <th>tumor_diagnosis</th>\n",
              "      <th>tumor_6_months</th>\n",
              "      <th>tumor_1_year</th>\n",
              "      <th>psa_diagnosis</th>\n",
              "      <th>psa_6_months</th>\n",
              "      <th>psa_1_year</th>\n",
              "      <th>tea</th>\n",
              "      <th>rd_thrpy</th>\n",
              "      <th>h_thrpy</th>\n",
              "      <th>chm_thrpy</th>\n",
              "      <th>cry_thrpy</th>\n",
              "      <th>brch_thrpy</th>\n",
              "      <th>rad_rem</th>\n",
              "      <th>multi_thrpy</th>\n",
              "      <th>survival_1_year</th>\n",
              "      <th>survival_7_years</th>\n",
              "      <th>O01</th>\n",
              "      <th>O08</th>\n",
              "      <th>O09</th>\n",
              "      <th>O10</th>\n",
              "      <th>O11</th>\n",
              "      <th>P01</th>\n",
              "      <th>P02</th>\n",
              "      <th>P03</th>\n",
              "      <th>S04</th>\n",
              "      <th>S07</th>\n",
              "      <th>S10</th>\n",
              "      <th>U01</th>\n",
              "      <th>U02</th>\n",
              "      <th>U03</th>\n",
              "      <th>U05</th>\n",
              "      <th>U06</th>\n",
              "      <th>race_1.0</th>\n",
              "      <th>race_2.0</th>\n",
              "      <th>race_3.0</th>\n",
              "      <th>race_4.0</th>\n",
              "    </tr>\n",
              "  </thead>\n",
              "  <tbody>\n",
              "    <tr>\n",
              "      <th>0</th>\n",
              "      <td>1</td>\n",
              "      <td>Jun-05</td>\n",
              "      <td>4.0</td>\n",
              "      <td>1</td>\n",
              "      <td>86.0</td>\n",
              "      <td>66.0</td>\n",
              "      <td>158.0</td>\n",
              "      <td>0.0</td>\n",
              "      <td>0.0</td>\n",
              "      <td>0.0</td>\n",
              "      <td>0.0</td>\n",
              "      <td>both</td>\n",
              "      <td>70.0</td>\n",
              "      <td>NaN</td>\n",
              "      <td>39.0</td>\n",
              "      <td>8.7</td>\n",
              "      <td>NaN</td>\n",
              "      <td>4.2</td>\n",
              "      <td>2.0</td>\n",
              "      <td>0</td>\n",
              "      <td>0</td>\n",
              "      <td>1</td>\n",
              "      <td>1</td>\n",
              "      <td>0</td>\n",
              "      <td>1</td>\n",
              "      <td>1</td>\n",
              "      <td>1</td>\n",
              "      <td>0</td>\n",
              "      <td>0.0</td>\n",
              "      <td>0.0</td>\n",
              "      <td>0.0</td>\n",
              "      <td>0.0</td>\n",
              "      <td>0.0</td>\n",
              "      <td>0.0</td>\n",
              "      <td>0.0</td>\n",
              "      <td>0.0</td>\n",
              "      <td>0.0</td>\n",
              "      <td>0.0</td>\n",
              "      <td>0.0</td>\n",
              "      <td>0.0</td>\n",
              "      <td>0.0</td>\n",
              "      <td>1.0</td>\n",
              "      <td>0.0</td>\n",
              "      <td>0.0</td>\n",
              "      <td>0</td>\n",
              "      <td>0</td>\n",
              "      <td>0</td>\n",
              "      <td>1</td>\n",
              "    </tr>\n",
              "    <tr>\n",
              "      <th>1</th>\n",
              "      <td>2</td>\n",
              "      <td>Feb-06</td>\n",
              "      <td>8.0</td>\n",
              "      <td>5</td>\n",
              "      <td>66.0</td>\n",
              "      <td>70.0</td>\n",
              "      <td>174.0</td>\n",
              "      <td>0.0</td>\n",
              "      <td>0.0</td>\n",
              "      <td>0.0</td>\n",
              "      <td>1.0</td>\n",
              "      <td>both</td>\n",
              "      <td>43.0</td>\n",
              "      <td>28.0</td>\n",
              "      <td>16.0</td>\n",
              "      <td>13.7</td>\n",
              "      <td>9.8</td>\n",
              "      <td>7.5</td>\n",
              "      <td>4.0</td>\n",
              "      <td>1</td>\n",
              "      <td>1</td>\n",
              "      <td>1</td>\n",
              "      <td>0</td>\n",
              "      <td>0</td>\n",
              "      <td>0</td>\n",
              "      <td>1</td>\n",
              "      <td>1</td>\n",
              "      <td>0</td>\n",
              "      <td>0.0</td>\n",
              "      <td>0.0</td>\n",
              "      <td>0.0</td>\n",
              "      <td>0.0</td>\n",
              "      <td>0.0</td>\n",
              "      <td>0.0</td>\n",
              "      <td>0.0</td>\n",
              "      <td>0.0</td>\n",
              "      <td>0.0</td>\n",
              "      <td>1.0</td>\n",
              "      <td>0.0</td>\n",
              "      <td>0.0</td>\n",
              "      <td>0.0</td>\n",
              "      <td>0.0</td>\n",
              "      <td>0.0</td>\n",
              "      <td>1.0</td>\n",
              "      <td>0</td>\n",
              "      <td>1</td>\n",
              "      <td>0</td>\n",
              "      <td>0</td>\n",
              "    </tr>\n",
              "    <tr>\n",
              "      <th>2</th>\n",
              "      <td>3</td>\n",
              "      <td>Mar-06</td>\n",
              "      <td>9.0</td>\n",
              "      <td>3</td>\n",
              "      <td>84.0</td>\n",
              "      <td>69.0</td>\n",
              "      <td>NaN</td>\n",
              "      <td>0.0</td>\n",
              "      <td>0.0</td>\n",
              "      <td>0.0</td>\n",
              "      <td>0.0</td>\n",
              "      <td>right</td>\n",
              "      <td>51.0</td>\n",
              "      <td>NaN</td>\n",
              "      <td>89.0</td>\n",
              "      <td>16.0</td>\n",
              "      <td>15.9</td>\n",
              "      <td>18.5</td>\n",
              "      <td>0.0</td>\n",
              "      <td>1</td>\n",
              "      <td>1</td>\n",
              "      <td>0</td>\n",
              "      <td>0</td>\n",
              "      <td>1</td>\n",
              "      <td>1</td>\n",
              "      <td>1</td>\n",
              "      <td>1</td>\n",
              "      <td>1</td>\n",
              "      <td>0.0</td>\n",
              "      <td>0.0</td>\n",
              "      <td>0.0</td>\n",
              "      <td>0.0</td>\n",
              "      <td>0.0</td>\n",
              "      <td>0.0</td>\n",
              "      <td>0.0</td>\n",
              "      <td>0.0</td>\n",
              "      <td>0.0</td>\n",
              "      <td>0.0</td>\n",
              "      <td>1.0</td>\n",
              "      <td>1.0</td>\n",
              "      <td>1.0</td>\n",
              "      <td>1.0</td>\n",
              "      <td>0.0</td>\n",
              "      <td>0.0</td>\n",
              "      <td>0</td>\n",
              "      <td>0</td>\n",
              "      <td>0</td>\n",
              "      <td>1</td>\n",
              "    </tr>\n",
              "    <tr>\n",
              "      <th>3</th>\n",
              "      <td>4</td>\n",
              "      <td>Feb-05</td>\n",
              "      <td>8.0</td>\n",
              "      <td>3</td>\n",
              "      <td>86.0</td>\n",
              "      <td>69.0</td>\n",
              "      <td>173.0</td>\n",
              "      <td>0.0</td>\n",
              "      <td>0.0</td>\n",
              "      <td>0.0</td>\n",
              "      <td>0.0</td>\n",
              "      <td>right</td>\n",
              "      <td>104.0</td>\n",
              "      <td>NaN</td>\n",
              "      <td>NaN</td>\n",
              "      <td>NaN</td>\n",
              "      <td>NaN</td>\n",
              "      <td>NaN</td>\n",
              "      <td>2.0</td>\n",
              "      <td>0</td>\n",
              "      <td>0</td>\n",
              "      <td>0</td>\n",
              "      <td>1</td>\n",
              "      <td>0</td>\n",
              "      <td>1</td>\n",
              "      <td>1</td>\n",
              "      <td>0</td>\n",
              "      <td>0</td>\n",
              "      <td>0.0</td>\n",
              "      <td>0.0</td>\n",
              "      <td>0.0</td>\n",
              "      <td>0.0</td>\n",
              "      <td>1.0</td>\n",
              "      <td>0.0</td>\n",
              "      <td>0.0</td>\n",
              "      <td>0.0</td>\n",
              "      <td>0.0</td>\n",
              "      <td>0.0</td>\n",
              "      <td>1.0</td>\n",
              "      <td>1.0</td>\n",
              "      <td>1.0</td>\n",
              "      <td>0.0</td>\n",
              "      <td>0.0</td>\n",
              "      <td>0.0</td>\n",
              "      <td>0</td>\n",
              "      <td>0</td>\n",
              "      <td>1</td>\n",
              "      <td>0</td>\n",
              "    </tr>\n",
              "    <tr>\n",
              "      <th>4</th>\n",
              "      <td>5</td>\n",
              "      <td>Dec-01</td>\n",
              "      <td>8.0</td>\n",
              "      <td>5</td>\n",
              "      <td>78.0</td>\n",
              "      <td>70.0</td>\n",
              "      <td>201.0</td>\n",
              "      <td>1.0</td>\n",
              "      <td>1.0</td>\n",
              "      <td>0.0</td>\n",
              "      <td>0.0</td>\n",
              "      <td>left</td>\n",
              "      <td>72.0</td>\n",
              "      <td>NaN</td>\n",
              "      <td>87.0</td>\n",
              "      <td>18.1</td>\n",
              "      <td>NaN</td>\n",
              "      <td>NaN</td>\n",
              "      <td>2.0</td>\n",
              "      <td>1</td>\n",
              "      <td>1</td>\n",
              "      <td>1</td>\n",
              "      <td>0</td>\n",
              "      <td>0</td>\n",
              "      <td>0</td>\n",
              "      <td>1</td>\n",
              "      <td>1</td>\n",
              "      <td>0</td>\n",
              "      <td>0.0</td>\n",
              "      <td>0.0</td>\n",
              "      <td>0.0</td>\n",
              "      <td>0.0</td>\n",
              "      <td>0.0</td>\n",
              "      <td>0.0</td>\n",
              "      <td>0.0</td>\n",
              "      <td>0.0</td>\n",
              "      <td>0.0</td>\n",
              "      <td>1.0</td>\n",
              "      <td>0.0</td>\n",
              "      <td>1.0</td>\n",
              "      <td>0.0</td>\n",
              "      <td>1.0</td>\n",
              "      <td>1.0</td>\n",
              "      <td>0.0</td>\n",
              "      <td>0</td>\n",
              "      <td>0</td>\n",
              "      <td>0</td>\n",
              "      <td>1</td>\n",
              "    </tr>\n",
              "  </tbody>\n",
              "</table>\n",
              "</div>"
            ],
            "text/plain": [
              "   id diagnosis_date  gleason_score  ...  race_2.0  race_3.0  race_4.0\n",
              "0   1         Jun-05            4.0  ...         0         0         1\n",
              "1   2         Feb-06            8.0  ...         1         0         0\n",
              "2   3         Mar-06            9.0  ...         0         0         1\n",
              "3   4         Feb-05            8.0  ...         0         1         0\n",
              "4   5         Dec-01            8.0  ...         0         0         1\n",
              "\n",
              "[5 rows x 48 columns]"
            ]
          },
          "metadata": {
            "tags": []
          },
          "execution_count": 20
        }
      ]
    },
    {
      "cell_type": "code",
      "metadata": {
        "id": "sx4IUnNu_Bpu"
      },
      "source": [
        "#training_data.to_excel('training_data_clean.xlsx')"
      ],
      "execution_count": null,
      "outputs": []
    },
    {
      "cell_type": "code",
      "metadata": {
        "id": "P4t8i_3ANbpz"
      },
      "source": [
        "training_data_1 = pd.read_csv('training_data_clean_1.csv')"
      ],
      "execution_count": null,
      "outputs": []
    },
    {
      "cell_type": "code",
      "metadata": {
        "id": "0SHsJ0hHOYcS"
      },
      "source": [
        "#Creating 3 different dataframes for logistic regression at three different time periods, t=0, t=6 months and t= 1 year\n",
        "\n",
        "X_0 = training_data_1[['gleason_score', 'stage', 'age', 'height', 'weight', 'family_history', 'first_degree_history', 'previous_cancer', 'smoker', 'tumor_diagnosis', 'psa_diagnosis', 'tea', 'rd_thrpy', 'h_thrpy', 'chm_thrpy', 'cry_thrpy', \n",
        "                       'brch_thrpy', 'rad_rem', 'multi_thrpy', 'O01', 'O08', 'O09', 'O10', 'O11', 'P01', 'P02', 'P03', 'S04', 'S07', 'S10', 'U01', 'U02', 'U03', 'U05', 'U06', 'race_1.0', 'race_2.0', 'race_3.0', 'race_4.0']]\n",
        "y_0 = training_data_1['survival_7_years']\n",
        "\n",
        "X_1 = training_data_1[['gleason_score', 'stage', 'age', 'height', 'weight', 'family_history', 'first_degree_history', 'previous_cancer', 'smoker', 'tumor_6_months', 'psa_6_months', 'tea', 'rd_thrpy', 'h_thrpy', 'chm_thrpy',\n",
        "                       'cry_thrpy', 'brch_thrpy', 'rad_rem', 'multi_thrpy', 'O01', 'O08', 'O09', 'O10', 'O11', 'P01', 'P02', 'P03', 'S04', 'S07', 'S10', 'U01', 'U02', 'U03', 'U05', 'U06', 'race_1.0', 'race_2.0', 'race_3.0', 'race_4.0']]\n",
        "y_1 = training_data_1['survival_7_years']\n",
        "\n",
        "X_2 = training_data_1[['gleason_score', 'stage', 'age', 'height', 'weight', 'family_history', 'first_degree_history', 'previous_cancer', 'smoker', 'tumor_1_year', 'psa_1_year', 'tea', 'rd_thrpy', 'h_thrpy', 'chm_thrpy',\n",
        "                       'cry_thrpy', 'brch_thrpy', 'rad_rem', 'multi_thrpy', 'O01', 'O08', 'O09', 'O10', 'O11', 'P01', 'P02', 'P03', 'S04', 'S07', 'S10', 'U01', 'U02', 'U03', 'U05', 'U06', 'race_1.0', 'race_2.0', 'race_3.0', 'race_4.0']]\n",
        "y_2 = training_data_1['survival_7_years']"
      ],
      "execution_count": null,
      "outputs": []
    },
    {
      "cell_type": "code",
      "metadata": {
        "id": "LUSE0aKaSNjj"
      },
      "source": [
        "#Dropping NAs for respective datasets\n",
        "X_0 = X_0.dropna()\n",
        "y_0 = y_0.iloc[X_0.index]\n",
        "\n",
        "X_1 = X_1.dropna()\n",
        "y_1 = y_1.iloc[X_1.index]\n",
        "\n",
        "X_2 = X_2.dropna()\n",
        "y_2 = y_2.iloc[X_2.index]"
      ],
      "execution_count": null,
      "outputs": []
    },
    {
      "cell_type": "code",
      "metadata": {
        "id": "_IVB5iHYMCPg"
      },
      "source": [
        "from sklearn.model_selection import train_test_split\n",
        "from sklearn.linear_model import LogisticRegression\n",
        "from sklearn.metrics import classification_report\n",
        "from sklearn.metrics import confusion_matrix"
      ],
      "execution_count": null,
      "outputs": []
    },
    {
      "cell_type": "code",
      "metadata": {
        "id": "ghs5Jse5ONTw",
        "colab": {
          "base_uri": "https://localhost:8080/"
        },
        "outputId": "7bb38d7a-ad14-47a9-fd4d-632f4bd37279"
      },
      "source": [
        "X_train, X_test, y_train, y_test = train_test_split(X_0, y_0, test_size=0.2, random_state=42)\n",
        "log_model = LogisticRegression(max_iter=10000)\n",
        "log_model.fit(X_train,y_train)"
      ],
      "execution_count": null,
      "outputs": [
        {
          "output_type": "execute_result",
          "data": {
            "text/plain": [
              "LogisticRegression(C=1.0, class_weight=None, dual=False, fit_intercept=True,\n",
              "                   intercept_scaling=1, l1_ratio=None, max_iter=10000,\n",
              "                   multi_class='auto', n_jobs=None, penalty='l2',\n",
              "                   random_state=None, solver='lbfgs', tol=0.0001, verbose=0,\n",
              "                   warm_start=False)"
            ]
          },
          "metadata": {
            "tags": []
          },
          "execution_count": 26
        }
      ]
    },
    {
      "cell_type": "code",
      "metadata": {
        "id": "shk1nMIhRehZ",
        "colab": {
          "base_uri": "https://localhost:8080/"
        },
        "outputId": "cc8685e4-0a1a-49de-ca66-42762d47a673"
      },
      "source": [
        "predictions = log_model.predict(X_test)\n",
        "print(classification_report(y_test,predictions))"
      ],
      "execution_count": null,
      "outputs": [
        {
          "output_type": "stream",
          "text": [
            "              precision    recall  f1-score   support\n",
            "\n",
            "           0       0.62      0.77      0.69      1035\n",
            "           1       0.58      0.41      0.48       822\n",
            "\n",
            "    accuracy                           0.61      1857\n",
            "   macro avg       0.60      0.59      0.59      1857\n",
            "weighted avg       0.61      0.61      0.60      1857\n",
            "\n"
          ],
          "name": "stdout"
        }
      ]
    },
    {
      "cell_type": "code",
      "metadata": {
        "colab": {
          "base_uri": "https://localhost:8080/"
        },
        "id": "ZZeIschLVi0_",
        "outputId": "9ad996db-b969-4129-aeb9-77242d65cc06"
      },
      "source": [
        "print(confusion_matrix(y_test,predictions))"
      ],
      "execution_count": null,
      "outputs": [
        {
          "output_type": "stream",
          "text": [
            "[[794 241]\n",
            " [483 339]]\n"
          ],
          "name": "stdout"
        }
      ]
    },
    {
      "cell_type": "code",
      "metadata": {
        "colab": {
          "base_uri": "https://localhost:8080/"
        },
        "id": "sPNuHHp4c69n",
        "outputId": "e11c39dd-ed9a-4a82-db76-ef3045515a49"
      },
      "source": [
        "np.exp(log_model.coef_).shape"
      ],
      "execution_count": null,
      "outputs": [
        {
          "output_type": "execute_result",
          "data": {
            "text/plain": [
              "(1, 39)"
            ]
          },
          "metadata": {
            "tags": []
          },
          "execution_count": 31
        }
      ]
    },
    {
      "cell_type": "code",
      "metadata": {
        "colab": {
          "base_uri": "https://localhost:8080/"
        },
        "id": "1jv9oAVJebLK",
        "outputId": "a4def3f1-f94a-422d-8fb4-9e5b22b4ed89"
      },
      "source": [
        "np.exp(log_model.coef_)"
      ],
      "execution_count": null,
      "outputs": [
        {
          "output_type": "execute_result",
          "data": {
            "text/plain": [
              "array([[0.87885789, 0.78540531, 1.00009774, 1.04398125, 0.99577974,\n",
              "        0.98593442, 0.94747652, 0.96180191, 1.23088662, 0.99383839,\n",
              "        0.9900641 , 0.96997192, 0.69347482, 1.25838391, 1.01537729,\n",
              "        0.93581407, 0.86144225, 0.9021196 , 0.87629274, 0.76198548,\n",
              "        0.44963111, 0.37936081, 0.87761926, 1.13267586, 0.46798481,\n",
              "        0.37396677, 0.490846  , 1.07447956, 1.05826409, 0.52444442,\n",
              "        1.00725933, 1.05649629, 1.00297145, 0.66418301, 1.06422415,\n",
              "        0.77845023, 1.06681026, 1.02179692, 1.0267565 ]])"
            ]
          },
          "metadata": {
            "tags": []
          },
          "execution_count": 32
        }
      ]
    },
    {
      "cell_type": "code",
      "metadata": {
        "colab": {
          "base_uri": "https://localhost:8080/"
        },
        "id": "bR9MWts_edkL",
        "outputId": "8c24c47b-192c-4380-9541-381f9037b5a2"
      },
      "source": [
        "np.arange(0,39)"
      ],
      "execution_count": null,
      "outputs": [
        {
          "output_type": "execute_result",
          "data": {
            "text/plain": [
              "array([ 0,  1,  2,  3,  4,  5,  6,  7,  8,  9, 10, 11, 12, 13, 14, 15, 16,\n",
              "       17, 18, 19, 20, 21, 22, 23, 24, 25, 26, 27, 28, 29, 30, 31, 32, 33,\n",
              "       34, 35, 36, 37, 38])"
            ]
          },
          "metadata": {
            "tags": []
          },
          "execution_count": 33
        }
      ]
    },
    {
      "cell_type": "code",
      "metadata": {
        "colab": {
          "base_uri": "https://localhost:8080/"
        },
        "id": "Lftf4kCXdADI",
        "outputId": "1373ac76-3180-42ae-a165-82826c5cbdcf"
      },
      "source": [
        "Columns = pd.DataFrame(X_0.columns)\n",
        "coeffecients = pd.DataFrame(np.exp(log_model.coef_).reshape(39,1))\n",
        "odds_ratio = pd.concat([Columns,coeffecients],axis=1)\n",
        "print(odds_ratio)"
      ],
      "execution_count": null,
      "outputs": [
        {
          "output_type": "stream",
          "text": [
            "                       0         0\n",
            "0          gleason_score  0.878858\n",
            "1                  stage  0.785405\n",
            "2                    age  1.000098\n",
            "3                 height  1.043981\n",
            "4                 weight  0.995780\n",
            "5         family_history  0.985934\n",
            "6   first_degree_history  0.947477\n",
            "7        previous_cancer  0.961802\n",
            "8                 smoker  1.230887\n",
            "9        tumor_diagnosis  0.993838\n",
            "10         psa_diagnosis  0.990064\n",
            "11                   tea  0.969972\n",
            "12              rd_thrpy  0.693475\n",
            "13               h_thrpy  1.258384\n",
            "14             chm_thrpy  1.015377\n",
            "15             cry_thrpy  0.935814\n",
            "16            brch_thrpy  0.861442\n",
            "17               rad_rem  0.902120\n",
            "18           multi_thrpy  0.876293\n",
            "19                   O01  0.761985\n",
            "20                   O08  0.449631\n",
            "21                   O09  0.379361\n",
            "22                   O10  0.877619\n",
            "23                   O11  1.132676\n",
            "24                   P01  0.467985\n",
            "25                   P02  0.373967\n",
            "26                   P03  0.490846\n",
            "27                   S04  1.074480\n",
            "28                   S07  1.058264\n",
            "29                   S10  0.524444\n",
            "30                   U01  1.007259\n",
            "31                   U02  1.056496\n",
            "32                   U03  1.002971\n",
            "33                   U05  0.664183\n",
            "34                   U06  1.064224\n",
            "35              race_1.0  0.778450\n",
            "36              race_2.0  1.066810\n",
            "37              race_3.0  1.021797\n",
            "38              race_4.0  1.026756\n"
          ],
          "name": "stdout"
        }
      ]
    },
    {
      "cell_type": "code",
      "metadata": {
        "colab": {
          "base_uri": "https://localhost:8080/"
        },
        "id": "jWpFDuqnMCVo",
        "outputId": "bf0461fe-2e98-4ad8-8efb-834ca1b4cf8b"
      },
      "source": [
        "#t=6 months\n",
        "X_train, X_test, y_train, y_test = train_test_split(X_1, y_1, test_size=0.2, random_state=42)\n",
        "log_model = LogisticRegression(max_iter=10000)\n",
        "log_model.fit(X_train,y_train)"
      ],
      "execution_count": null,
      "outputs": [
        {
          "output_type": "execute_result",
          "data": {
            "text/plain": [
              "LogisticRegression(C=1.0, class_weight=None, dual=False, fit_intercept=True,\n",
              "                   intercept_scaling=1, l1_ratio=None, max_iter=10000,\n",
              "                   multi_class='auto', n_jobs=None, penalty='l2',\n",
              "                   random_state=None, solver='lbfgs', tol=0.0001, verbose=0,\n",
              "                   warm_start=False)"
            ]
          },
          "metadata": {
            "tags": []
          },
          "execution_count": 52
        }
      ]
    },
    {
      "cell_type": "code",
      "metadata": {
        "colab": {
          "base_uri": "https://localhost:8080/"
        },
        "id": "FGtFKAq5UPNI",
        "outputId": "1c183ca2-3458-48d1-dacd-491e477baede"
      },
      "source": [
        "predictions = log_model.predict(X_test)\n",
        "print(classification_report(y_test,predictions))"
      ],
      "execution_count": null,
      "outputs": [
        {
          "output_type": "stream",
          "text": [
            "              precision    recall  f1-score   support\n",
            "\n",
            "           0       0.67      0.85      0.75       517\n",
            "           1       0.55      0.32      0.40       312\n",
            "\n",
            "    accuracy                           0.65       829\n",
            "   macro avg       0.61      0.58      0.58       829\n",
            "weighted avg       0.63      0.65      0.62       829\n",
            "\n"
          ],
          "name": "stdout"
        }
      ]
    },
    {
      "cell_type": "code",
      "metadata": {
        "colab": {
          "base_uri": "https://localhost:8080/"
        },
        "id": "hwEPWMUGUPaT",
        "outputId": "91554df1-3504-413a-a4d9-ae1ddbc88397"
      },
      "source": [
        "print(confusion_matrix(y_test,predictions))"
      ],
      "execution_count": null,
      "outputs": [
        {
          "output_type": "stream",
          "text": [
            "[[437  80]\n",
            " [213  99]]\n"
          ],
          "name": "stdout"
        }
      ]
    },
    {
      "cell_type": "code",
      "metadata": {
        "colab": {
          "base_uri": "https://localhost:8080/"
        },
        "id": "bbZgHJjQiFP4",
        "outputId": "5edff89f-79b6-4dd5-c645-b86a33cebec8"
      },
      "source": [
        "Columns = pd.DataFrame(X_1.columns)\n",
        "coeffecients = pd.DataFrame(np.exp(log_model.coef_).reshape(39,1))\n",
        "odds_ratio = pd.concat([Columns,coeffecients],axis=1)\n",
        "print(odds_ratio)"
      ],
      "execution_count": null,
      "outputs": [
        {
          "output_type": "stream",
          "text": [
            "                       0         0\n",
            "0          gleason_score  0.948034\n",
            "1                  stage  0.779225\n",
            "2                    age  0.998959\n",
            "3                 height  1.043201\n",
            "4                 weight  0.994791\n",
            "5         family_history  0.985569\n",
            "6   first_degree_history  0.942193\n",
            "7        previous_cancer  0.834588\n",
            "8                 smoker  1.337849\n",
            "9         tumor_6_months  0.990043\n",
            "10          psa_6_months  0.963581\n",
            "11                   tea  0.983514\n",
            "12              rd_thrpy  0.791503\n",
            "13               h_thrpy  1.275550\n",
            "14             chm_thrpy  0.995765\n",
            "15             cry_thrpy  0.830029\n",
            "16            brch_thrpy  0.967656\n",
            "17               rad_rem  0.907272\n",
            "18           multi_thrpy  0.718686\n",
            "19                   O01  1.034065\n",
            "20                   O08  0.399972\n",
            "21                   O09  0.474068\n",
            "22                   O10  0.937208\n",
            "23                   O11  1.062522\n",
            "24                   P01  0.298008\n",
            "25                   P02  0.466383\n",
            "26                   P03  0.716510\n",
            "27                   S04  1.218289\n",
            "28                   S07  1.313301\n",
            "29                   S10  0.585628\n",
            "30                   U01  1.133938\n",
            "31                   U02  1.090613\n",
            "32                   U03  0.932133\n",
            "33                   U05  0.646738\n",
            "34                   U06  0.931103\n",
            "35              race_1.0  0.772572\n",
            "36              race_2.0  0.923036\n",
            "37              race_3.0  0.946628\n",
            "38              race_4.0  0.846105\n"
          ],
          "name": "stdout"
        }
      ]
    },
    {
      "cell_type": "code",
      "metadata": {
        "colab": {
          "base_uri": "https://localhost:8080/"
        },
        "id": "xsZ2ANbhUPku",
        "outputId": "37f73a12-7a7c-4390-e2a1-7a27c7cac544"
      },
      "source": [
        "#t=1 year\n",
        "X_train, X_test, y_train, y_test = train_test_split(X_2, y_2, test_size=0.2, random_state=42)\n",
        "log_model = LogisticRegression(max_iter=10000)\n",
        "log_model.fit(X_train,y_train)"
      ],
      "execution_count": null,
      "outputs": [
        {
          "output_type": "execute_result",
          "data": {
            "text/plain": [
              "LogisticRegression(C=1.0, class_weight=None, dual=False, fit_intercept=True,\n",
              "                   intercept_scaling=1, l1_ratio=None, max_iter=10000,\n",
              "                   multi_class='auto', n_jobs=None, penalty='l2',\n",
              "                   random_state=None, solver='lbfgs', tol=0.0001, verbose=0,\n",
              "                   warm_start=False)"
            ]
          },
          "metadata": {
            "tags": []
          },
          "execution_count": 63
        }
      ]
    },
    {
      "cell_type": "code",
      "metadata": {
        "colab": {
          "base_uri": "https://localhost:8080/"
        },
        "id": "_6ST3gGOUPu9",
        "outputId": "c5004d69-5fdd-4acb-94aa-b4408bacbd13"
      },
      "source": [
        "predictions = log_model.predict(X_test)\n",
        "print(classification_report(y_test,predictions))"
      ],
      "execution_count": null,
      "outputs": [
        {
          "output_type": "stream",
          "text": [
            "              precision    recall  f1-score   support\n",
            "\n",
            "           0       0.68      0.77      0.72      1095\n",
            "           1       0.61      0.49      0.54       785\n",
            "\n",
            "    accuracy                           0.65      1880\n",
            "   macro avg       0.64      0.63      0.63      1880\n",
            "weighted avg       0.65      0.65      0.65      1880\n",
            "\n"
          ],
          "name": "stdout"
        }
      ]
    },
    {
      "cell_type": "code",
      "metadata": {
        "colab": {
          "base_uri": "https://localhost:8080/"
        },
        "id": "3PVgpStfUP16",
        "outputId": "e27ab144-7b73-401a-86a7-50f93ab339cb"
      },
      "source": [
        "print(confusion_matrix(y_test,predictions))"
      ],
      "execution_count": null,
      "outputs": [
        {
          "output_type": "stream",
          "text": [
            "[[846 249]\n",
            " [403 382]]\n"
          ],
          "name": "stdout"
        }
      ]
    },
    {
      "cell_type": "code",
      "metadata": {
        "colab": {
          "base_uri": "https://localhost:8080/"
        },
        "id": "AQW64FUOjoaU",
        "outputId": "8f4b936c-bfc1-4558-d8c5-a081948e11a5"
      },
      "source": [
        "Columns = pd.DataFrame(X_2.columns)\n",
        "coeffecients = pd.DataFrame(np.exp(log_model.coef_).reshape(39,1))\n",
        "odds_ratio = pd.concat([Columns,coeffecients],axis=1)\n",
        "print(odds_ratio)"
      ],
      "execution_count": null,
      "outputs": [
        {
          "output_type": "stream",
          "text": [
            "                       0         0\n",
            "0          gleason_score  0.909606\n",
            "1                  stage  0.802313\n",
            "2                    age  1.001154\n",
            "3                 height  1.036747\n",
            "4                 weight  0.996591\n",
            "5         family_history  1.058453\n",
            "6   first_degree_history  0.935572\n",
            "7        previous_cancer  0.987842\n",
            "8                 smoker  1.123575\n",
            "9           tumor_1_year  0.992161\n",
            "10            psa_1_year  0.992991\n",
            "11                   tea  0.975422\n",
            "12              rd_thrpy  0.698252\n",
            "13               h_thrpy  1.172697\n",
            "14             chm_thrpy  0.986993\n",
            "15             cry_thrpy  0.938269\n",
            "16            brch_thrpy  0.874851\n",
            "17               rad_rem  0.858601\n",
            "18           multi_thrpy  0.894466\n",
            "19                   O01  0.730338\n",
            "20                   O08  0.615076\n",
            "21                   O09  0.444223\n",
            "22                   O10  1.433118\n",
            "23                   O11  1.028107\n",
            "24                   P01  0.428078\n",
            "25                   P02  0.401007\n",
            "26                   P03  0.401923\n",
            "27                   S04  1.089684\n",
            "28                   S07  1.078927\n",
            "29                   S10  0.570666\n",
            "30                   U01  0.998479\n",
            "31                   U02  1.020869\n",
            "32                   U03  1.049348\n",
            "33                   U05  0.682950\n",
            "34                   U06  1.053596\n",
            "35              race_1.0  0.744192\n",
            "36              race_2.0  1.016619\n",
            "37              race_3.0  0.964678\n",
            "38              race_4.0  0.946701\n"
          ],
          "name": "stdout"
        }
      ]
    },
    {
      "cell_type": "code",
      "metadata": {
        "id": "81eKs1-AcHbz"
      },
      "source": [
        ""
      ],
      "execution_count": null,
      "outputs": []
    },
    {
      "cell_type": "code",
      "metadata": {
        "colab": {
          "base_uri": "https://localhost:8080/",
          "height": 682
        },
        "id": "xDEQemSGnP5E",
        "outputId": "260017e0-13fe-4f7b-bdf2-ecd78fccc745"
      },
      "source": [
        "#df_symptoms = df[['O01', 'O08', 'O09', 'O10', 'O11', 'P01', 'P02', 'P03', 'S04', 'S07', 'S10', 'U01', 'U02', 'U03', 'U05', 'U06', 'stage','survival_7_years']]\n",
        "#mask = np.zeros_like(df_symptoms.corr())\n",
        "#mask[np.triu_indices_from(mask)] = True\n",
        "#fig, ax = plt.subplots(figsize=(15,10))\n",
        "#sns.heatmap(df_symptoms.corr(),annot= True, ax=ax,mask=mask, linewidths=0.5, fmt=\".2f\", cmap='viridis', cbar=False)\n",
        "\n",
        "#fig, ax = plt.subplots(figsize=(20,15))\n",
        "#sns.heatmap(.corr(), ax=ax, cmap='viridis', annot=True, fmt=\".2f\", linewidths=0.25)"
      ],
      "execution_count": null,
      "outputs": [
        {
          "output_type": "execute_result",
          "data": {
            "text/plain": [
              "<matplotlib.axes._subplots.AxesSubplot at 0x7f525501ed10>"
            ]
          },
          "metadata": {
            "tags": []
          },
          "execution_count": 25
        },
        {
          "output_type": "display_data",
          "data": {
            "image/png": "[encoded data removed]",
            "text/plain": [
              "<Figure size 1080x720 with 1 Axes>"
            ]
          },
          "metadata": {
            "tags": [],
            "needs_background": "light"
          }
        }
      ]
    },
    {
      "cell_type": "code",
      "metadata": {
        "colab": {
          "base_uri": "https://localhost:8080/",
          "height": 465
        },
        "id": "CsExxn7mtONd",
        "outputId": "54a97561-d6bd-4775-b9f7-a53a537e9c42"
      },
      "source": [
        "#df_therapy = df[['rd_thrpy',\t'h_thrpy',\t'chm_thrpy',\t'cry_thrpy',\t'brch_thrpy', 'rad_rem',\t'multi_thrpy','stage','survival_7_years']]\n",
        "#mask = np.zeros_like(df_therapy.corr())\n",
        "#mask[np.triu_indices_from(mask)] = True\n",
        "#fig, ax = plt.subplots(figsize=(8,6))\n",
        "#sns.heatmap(df_therapy.corr(),annot= True, ax=ax,mask=mask, linewidths=0.5, fmt=\".2f\", cmap='viridis', cbar=False)\n",
        "\n",
        "#fig, ax = plt.subplots(figsize=(15,10))\n",
        "#sns.heatmap(.corr(), ax=ax, cmap='viridis', annot=True, fmt=\".2f\", linewidths=0.25)"
      ],
      "execution_count": null,
      "outputs": [
        {
          "output_type": "execute_result",
          "data": {
            "text/plain": [
              "<matplotlib.axes._subplots.AxesSubplot at 0x7f524bdbae90>"
            ]
          },
          "metadata": {
            "tags": []
          },
          "execution_count": 26
        },
        {
          "output_type": "display_data",
          "data": {
            "image/png": "[encoded data removed]",
            "text/plain": [
              "<Figure size 576x432 with 1 Axes>"
            ]
          },
          "metadata": {
            "tags": [],
            "needs_background": "light"
          }
        }
      ]
    }
  ]
}